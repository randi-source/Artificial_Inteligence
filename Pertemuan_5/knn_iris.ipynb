{
 "cells": [
  {
   "cell_type": "code",
   "execution_count": 7,
   "metadata": {},
   "outputs": [],
   "source": [
    "# K Nearest Neighbor\n",
    "from sklearn import datasets\n",
    "from sklearn.model_selection import train_test_split\n",
    "from sklearn.neighbors import KNeighborsClassifier\n",
    "from sklearn.model_selection import GridSearchCV\n",
    "from sklearn.metrics import accuracy_score, f1_score, recall_score, precision_score"
   ]
  },
  {
   "cell_type": "code",
   "execution_count": 2,
   "metadata": {},
   "outputs": [],
   "source": [
    "iris = datasets.load_iris()\n",
    "X = iris.data #all data is taken\n",
    "y = iris.target #0: Setosa, 1: Versicolour, 2:Virginica"
   ]
  },
  {
   "cell_type": "code",
   "execution_count": 3,
   "metadata": {},
   "outputs": [],
   "source": [
    "X_train, X_test, y_train, y_test = train_test_split(X, y, test_size=0.5, random_state=123)"
   ]
  },
  {
   "cell_type": "code",
   "execution_count": 4,
   "metadata": {},
   "outputs": [],
   "source": [
    "best_n = 0\n",
    "best_acc = 0"
   ]
  },
  {
   "cell_type": "code",
   "execution_count": 15,
   "metadata": {},
   "outputs": [
    {
     "name": "stdout",
     "output_type": "stream",
     "text": [
      "n neighbors = 2\n",
      "Total points: 75 Correctly labeled points : 70\n",
      "\n",
      "n neighbors = 3\n",
      "Total points: 75 Correctly labeled points : 71\n",
      "\n",
      "n neighbors = 4\n",
      "Total points: 75 Correctly labeled points : 71\n",
      "\n",
      "n neighbors = 5\n",
      "Total points: 75 Correctly labeled points : 71\n",
      "\n",
      "n neighbors = 6\n",
      "Total points: 75 Correctly labeled points : 71\n",
      "\n",
      "n neighbors = 7\n",
      "Total points: 75 Correctly labeled points : 72\n",
      "\n",
      "n neighbors = 8\n",
      "Total points: 75 Correctly labeled points : 73\n",
      "\n",
      "n neighbors = 9\n",
      "Total points: 75 Correctly labeled points : 73\n",
      "\n",
      "n neighbors = 10\n",
      "Total points: 75 Correctly labeled points : 73\n",
      "\n",
      "n neighbors = 11\n",
      "Total points: 75 Correctly labeled points : 72\n",
      "\n",
      "n neighbors = 12\n",
      "Total points: 75 Correctly labeled points : 73\n",
      "\n",
      "n neighbors = 13\n",
      "Total points: 75 Correctly labeled points : 71\n",
      "\n",
      "n neighbors = 14\n",
      "Total points: 75 Correctly labeled points : 71\n",
      "\n",
      "best n = 9\n",
      "best accuracy = 0.9733333333333334\n"
     ]
    }
   ],
   "source": [
    "for i in range(2, 15):\n",
    "    clf = KNeighborsClassifier(n_neighbors=i, algorithm=\"auto\", weights='distance' )\n",
    "    clf.fit(X_train, y_train)\n",
    "    y_pred = clf.predict(X_test)\n",
    "    print(\"n neighbors = %d\" %i)\n",
    "    print(\"Total points: %d Correctly labeled points : %d\" %(y_test.shape[0], (y_test == y_pred).sum()))\n",
    "    print()\n",
    "    accuracy = (y_test == y_pred).sum()/y_test.shape[0]\n",
    "    if best_acc < accuracy:\n",
    "        best_n = i\n",
    "        best_acc = accuracy\n",
    "    \n",
    "print(\"best n =\", best_n)\n",
    "print(\"best accuracy =\", best_acc)"
   ]
  }
 ],
 "metadata": {
  "kernelspec": {
   "display_name": "base",
   "language": "python",
   "name": "python3"
  },
  "language_info": {
   "codemirror_mode": {
    "name": "ipython",
    "version": 3
   },
   "file_extension": ".py",
   "mimetype": "text/x-python",
   "name": "python",
   "nbconvert_exporter": "python",
   "pygments_lexer": "ipython3",
   "version": "3.11.4"
  }
 },
 "nbformat": 4,
 "nbformat_minor": 2
}
