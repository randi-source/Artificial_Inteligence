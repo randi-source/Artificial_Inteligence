{
 "cells": [
  {
   "cell_type": "code",
   "execution_count": 1,
   "metadata": {
    "vscode": {
     "languageId": "r"
    }
   },
   "outputs": [],
   "source": [
    "library(modeldata)\n",
    "library(C50)\n",
    "library(mlflow)"
   ]
  },
  {
   "cell_type": "code",
   "execution_count": 2,
   "metadata": {
    "vscode": {
     "languageId": "r"
    }
   },
   "outputs": [],
   "source": [
    "data(credit_data)\n",
    "#vars<- c(\"Home\", \"Seniority\")\n",
    "#str(credit_data[, c(vars, \"Status\")])\n",
    "#str(credit_data)"
   ]
  },
  {
   "cell_type": "code",
   "execution_count": 3,
   "metadata": {
    "vscode": {
     "languageId": "r"
    }
   },
   "outputs": [
    {
     "data": {
      "text/html": [
       "<table class=\"dataframe\">\n",
       "<caption>A data.frame: 6 × 14</caption>\n",
       "<thead>\n",
       "\t<tr><th></th><th scope=col>Status</th><th scope=col>Seniority</th><th scope=col>Home</th><th scope=col>Time</th><th scope=col>Age</th><th scope=col>Marital</th><th scope=col>Records</th><th scope=col>Job</th><th scope=col>Expenses</th><th scope=col>Income</th><th scope=col>Assets</th><th scope=col>Debt</th><th scope=col>Amount</th><th scope=col>Price</th></tr>\n",
       "\t<tr><th></th><th scope=col>&lt;fct&gt;</th><th scope=col>&lt;int&gt;</th><th scope=col>&lt;fct&gt;</th><th scope=col>&lt;int&gt;</th><th scope=col>&lt;int&gt;</th><th scope=col>&lt;fct&gt;</th><th scope=col>&lt;fct&gt;</th><th scope=col>&lt;fct&gt;</th><th scope=col>&lt;int&gt;</th><th scope=col>&lt;int&gt;</th><th scope=col>&lt;int&gt;</th><th scope=col>&lt;int&gt;</th><th scope=col>&lt;int&gt;</th><th scope=col>&lt;int&gt;</th></tr>\n",
       "</thead>\n",
       "<tbody>\n",
       "\t<tr><th scope=row>1</th><td>good</td><td> 9</td><td>rent </td><td>60</td><td>30</td><td>married</td><td>no </td><td>freelance</td><td>73</td><td>129</td><td>   0</td><td>0</td><td> 800</td><td> 846</td></tr>\n",
       "\t<tr><th scope=row>2</th><td>good</td><td>17</td><td>rent </td><td>60</td><td>58</td><td>widow  </td><td>no </td><td>fixed    </td><td>48</td><td>131</td><td>   0</td><td>0</td><td>1000</td><td>1658</td></tr>\n",
       "\t<tr><th scope=row>3</th><td>bad </td><td>10</td><td>owner</td><td>36</td><td>46</td><td>married</td><td>yes</td><td>freelance</td><td>90</td><td>200</td><td>3000</td><td>0</td><td>2000</td><td>2985</td></tr>\n",
       "\t<tr><th scope=row>4</th><td>good</td><td> 0</td><td>rent </td><td>60</td><td>24</td><td>single </td><td>no </td><td>fixed    </td><td>63</td><td>182</td><td>2500</td><td>0</td><td> 900</td><td>1325</td></tr>\n",
       "\t<tr><th scope=row>5</th><td>good</td><td> 0</td><td>rent </td><td>36</td><td>26</td><td>single </td><td>no </td><td>fixed    </td><td>46</td><td>107</td><td>   0</td><td>0</td><td> 310</td><td> 910</td></tr>\n",
       "\t<tr><th scope=row>6</th><td>good</td><td> 1</td><td>owner</td><td>60</td><td>36</td><td>married</td><td>no </td><td>fixed    </td><td>75</td><td>214</td><td>3500</td><td>0</td><td> 650</td><td>1645</td></tr>\n",
       "</tbody>\n",
       "</table>\n"
      ],
      "text/latex": [
       "A data.frame: 6 × 14\n",
       "\\begin{tabular}{r|llllllllllllll}\n",
       "  & Status & Seniority & Home & Time & Age & Marital & Records & Job & Expenses & Income & Assets & Debt & Amount & Price\\\\\n",
       "  & <fct> & <int> & <fct> & <int> & <int> & <fct> & <fct> & <fct> & <int> & <int> & <int> & <int> & <int> & <int>\\\\\n",
       "\\hline\n",
       "\t1 & good &  9 & rent  & 60 & 30 & married & no  & freelance & 73 & 129 &    0 & 0 &  800 &  846\\\\\n",
       "\t2 & good & 17 & rent  & 60 & 58 & widow   & no  & fixed     & 48 & 131 &    0 & 0 & 1000 & 1658\\\\\n",
       "\t3 & bad  & 10 & owner & 36 & 46 & married & yes & freelance & 90 & 200 & 3000 & 0 & 2000 & 2985\\\\\n",
       "\t4 & good &  0 & rent  & 60 & 24 & single  & no  & fixed     & 63 & 182 & 2500 & 0 &  900 & 1325\\\\\n",
       "\t5 & good &  0 & rent  & 36 & 26 & single  & no  & fixed     & 46 & 107 &    0 & 0 &  310 &  910\\\\\n",
       "\t6 & good &  1 & owner & 60 & 36 & married & no  & fixed     & 75 & 214 & 3500 & 0 &  650 & 1645\\\\\n",
       "\\end{tabular}\n"
      ],
      "text/markdown": [
       "\n",
       "A data.frame: 6 × 14\n",
       "\n",
       "| <!--/--> | Status &lt;fct&gt; | Seniority &lt;int&gt; | Home &lt;fct&gt; | Time &lt;int&gt; | Age &lt;int&gt; | Marital &lt;fct&gt; | Records &lt;fct&gt; | Job &lt;fct&gt; | Expenses &lt;int&gt; | Income &lt;int&gt; | Assets &lt;int&gt; | Debt &lt;int&gt; | Amount &lt;int&gt; | Price &lt;int&gt; |\n",
       "|---|---|---|---|---|---|---|---|---|---|---|---|---|---|---|\n",
       "| 1 | good |  9 | rent  | 60 | 30 | married | no  | freelance | 73 | 129 |    0 | 0 |  800 |  846 |\n",
       "| 2 | good | 17 | rent  | 60 | 58 | widow   | no  | fixed     | 48 | 131 |    0 | 0 | 1000 | 1658 |\n",
       "| 3 | bad  | 10 | owner | 36 | 46 | married | yes | freelance | 90 | 200 | 3000 | 0 | 2000 | 2985 |\n",
       "| 4 | good |  0 | rent  | 60 | 24 | single  | no  | fixed     | 63 | 182 | 2500 | 0 |  900 | 1325 |\n",
       "| 5 | good |  0 | rent  | 36 | 26 | single  | no  | fixed     | 46 | 107 |    0 | 0 |  310 |  910 |\n",
       "| 6 | good |  1 | owner | 60 | 36 | married | no  | fixed     | 75 | 214 | 3500 | 0 |  650 | 1645 |\n",
       "\n"
      ],
      "text/plain": [
       "  Status Seniority Home  Time Age Marital Records Job       Expenses Income\n",
       "1 good    9        rent  60   30  married no      freelance 73       129   \n",
       "2 good   17        rent  60   58  widow   no      fixed     48       131   \n",
       "3 bad    10        owner 36   46  married yes     freelance 90       200   \n",
       "4 good    0        rent  60   24  single  no      fixed     63       182   \n",
       "5 good    0        rent  36   26  single  no      fixed     46       107   \n",
       "6 good    1        owner 60   36  married no      fixed     75       214   \n",
       "  Assets Debt Amount Price\n",
       "1    0   0     800    846 \n",
       "2    0   0    1000   1658 \n",
       "3 3000   0    2000   2985 \n",
       "4 2500   0     900   1325 \n",
       "5    0   0     310    910 \n",
       "6 3500   0     650   1645 "
      ]
     },
     "metadata": {},
     "output_type": "display_data"
    }
   ],
   "source": [
    "head(credit_data)"
   ]
  },
  {
   "cell_type": "code",
   "execution_count": 4,
   "metadata": {
    "vscode": {
     "languageId": "r"
    }
   },
   "outputs": [
    {
     "data": {
      "text/html": [
       "<style>\n",
       ".dl-inline {width: auto; margin:0; padding: 0}\n",
       ".dl-inline>dt, .dl-inline>dd {float: none; width: auto; display: inline-block}\n",
       ".dl-inline>dt::after {content: \":\\0020\"; padding-right: .5ex}\n",
       ".dl-inline>dt:not(:first-of-type) {padding-left: .5ex}\n",
       "</style><dl class=dl-inline><dt>Status</dt><dd>0</dd><dt>Seniority</dt><dd>0</dd><dt>Home</dt><dd>6</dd><dt>Time</dt><dd>0</dd><dt>Age</dt><dd>0</dd><dt>Marital</dt><dd>1</dd><dt>Records</dt><dd>0</dd><dt>Job</dt><dd>2</dd><dt>Expenses</dt><dd>0</dd><dt>Income</dt><dd>381</dd><dt>Assets</dt><dd>47</dd><dt>Debt</dt><dd>18</dd><dt>Amount</dt><dd>0</dd><dt>Price</dt><dd>0</dd></dl>\n"
      ],
      "text/latex": [
       "\\begin{description*}\n",
       "\\item[Status] 0\n",
       "\\item[Seniority] 0\n",
       "\\item[Home] 6\n",
       "\\item[Time] 0\n",
       "\\item[Age] 0\n",
       "\\item[Marital] 1\n",
       "\\item[Records] 0\n",
       "\\item[Job] 2\n",
       "\\item[Expenses] 0\n",
       "\\item[Income] 381\n",
       "\\item[Assets] 47\n",
       "\\item[Debt] 18\n",
       "\\item[Amount] 0\n",
       "\\item[Price] 0\n",
       "\\end{description*}\n"
      ],
      "text/markdown": [
       "Status\n",
       ":   0Seniority\n",
       ":   0Home\n",
       ":   6Time\n",
       ":   0Age\n",
       ":   0Marital\n",
       ":   1Records\n",
       ":   0Job\n",
       ":   2Expenses\n",
       ":   0Income\n",
       ":   381Assets\n",
       ":   47Debt\n",
       ":   18Amount\n",
       ":   0Price\n",
       ":   0\n",
       "\n"
      ],
      "text/plain": [
       "   Status Seniority      Home      Time       Age   Marital   Records       Job \n",
       "        0         0         6         0         0         1         0         2 \n",
       " Expenses    Income    Assets      Debt    Amount     Price \n",
       "        0       381        47        18         0         0 "
      ]
     },
     "metadata": {},
     "output_type": "display_data"
    }
   ],
   "source": [
    "colSums(is.na(credit_data))"
   ]
  },
  {
   "cell_type": "code",
   "execution_count": 5,
   "metadata": {
    "vscode": {
     "languageId": "r"
    }
   },
   "outputs": [],
   "source": [
    "# Create a list of variable combinations\n",
    "var_list <- list(c(\"Home\", \"Seniority\"),\n",
    "                 c(\"Seniority\", \"Home\"),\n",
    "                 c(\"Home\", \"Seniority\", \"Time\"),\n",
    "                 c(\"Home\", \"Seniority\", \"Time\", \"Age\"),\n",
    "                 c(\"Home\", \"Seniority\", \"Time\", \"Age\", \"Marital\"),\n",
    "                 c(\"Home\", \"Seniority\", \"Time\", \"Age\", \"Marital\", \"Records\"),\n",
    "                 c(\"Home\", \"Seniority\", \"Time\", \"Age\", \"Marital\", \"Records\", \"Job\"),\n",
    "                 c(\"Home\", \"Seniority\", \"Time\", \"Age\", \"Marital\", \"Records\", \"Job\", \"Expenses\"),\n",
    "                 c(\"Home\", \"Seniority\", \"Time\", \"Age\", \"Marital\", \"Records\", \"Job\", \"Expenses\", \"Income\"),\n",
    "                 c(\"Home\", \"Seniority\", \"Time\", \"Age\", \"Marital\", \"Records\", \"Job\", \"Expenses\", \"Income\", \"Assets\"),\n",
    "                 c(\"Home\", \"Seniority\", \"Time\", \"Age\", \"Marital\", \"Records\", \"Job\", \"Expenses\", \"Income\", \"Assets\", \"Debt\"),\n",
    "                 c(\"Home\", \"Seniority\", \"Time\", \"Age\", \"Marital\", \"Records\", \"Job\", \"Expenses\", \"Income\", \"Assets\", \"Debt\", \"Amount\"),\n",
    "                 c(\"Home\", \"Seniority\", \"Time\", \"Age\", \"Marital\", \"Records\", \"Job\", \"Expenses\", \"Income\", \"Assets\", \"Debt\", \"Amount\", \"Price\"))"
   ]
  },
  {
   "cell_type": "code",
   "execution_count": 6,
   "metadata": {
    "vscode": {
     "languageId": "r"
    }
   },
   "outputs": [],
   "source": [
    "# Create a directory named 'tree' if it doesn't exist\n",
    "if (!dir.exists(\"tree\")) {\n",
    "  dir.create(\"tree\")\n",
    "}"
   ]
  },
  {
   "cell_type": "code",
   "execution_count": 7,
   "metadata": {
    "vscode": {
     "languageId": "r"
    }
   },
   "outputs": [],
   "source": [
    "set.seed(2411)\n",
    "in_train<- sample(1:nrow(credit_data), size = 3000)\n",
    "train_data<- credit_data[in_train,]\n",
    "test_data<-credit_data[-in_train,]"
   ]
  },
  {
   "cell_type": "code",
   "execution_count": 8,
   "metadata": {
    "vscode": {
     "languageId": "r"
    }
   },
   "outputs": [],
   "source": [
    "# Loop through the variable combinations\n",
    "for (i in 1:length(var_list)) {\n",
    "  # Extract the variable combination\n",
    "  vars <- var_list[[i]]\n",
    "  \n",
    "  # Train the model\n",
    "  tree_mod <- C5.0(x = train_data[, vars], y = train_data$Status)\n",
    "  \n",
    "  # Save the plot\n",
    "  png(filename = paste0(\"tree/decision_tree_\", paste(vars, collapse = \"_\"), \".png\"))\n",
    "  plot(tree_mod)\n",
    "  dev.off()\n",
    "}"
   ]
  }
 ],
 "metadata": {
  "kernelspec": {
   "display_name": "R",
   "language": "R",
   "name": "ir"
  },
  "language_info": {
   "codemirror_mode": "r",
   "file_extension": ".r",
   "mimetype": "text/x-r-source",
   "name": "R",
   "pygments_lexer": "r",
   "version": "4.1.3"
  },
  "orig_nbformat": 4
 },
 "nbformat": 4,
 "nbformat_minor": 2
}
