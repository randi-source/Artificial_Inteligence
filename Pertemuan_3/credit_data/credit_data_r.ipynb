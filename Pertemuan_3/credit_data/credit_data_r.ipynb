{
 "cells": [
  {
   "cell_type": "code",
   "execution_count": 1,
   "metadata": {
    "vscode": {
     "languageId": "r"
    }
   },
   "outputs": [],
   "source": [
    "library(modeldata)\n",
    "library(C50)\n",
    "library(mlflow)"
   ]
  },
  {
   "cell_type": "code",
   "execution_count": 2,
   "metadata": {
    "vscode": {
     "languageId": "r"
    }
   },
   "outputs": [
    {
     "name": "stdout",
     "output_type": "stream",
     "text": [
      "'data.frame':\t4454 obs. of  3 variables:\n",
      " $ Home     : Factor w/ 6 levels \"ignore\",\"other\",..: 6 6 3 6 6 3 3 4 3 4 ...\n",
      " $ Seniority: int  9 17 10 0 0 1 29 9 0 0 ...\n",
      " $ Status   : Factor w/ 2 levels \"bad\",\"good\": 2 2 1 2 2 2 2 2 2 1 ...\n",
      "'data.frame':\t4454 obs. of  14 variables:\n",
      " $ Status   : Factor w/ 2 levels \"bad\",\"good\": 2 2 1 2 2 2 2 2 2 1 ...\n",
      " $ Seniority: int  9 17 10 0 0 1 29 9 0 0 ...\n",
      " $ Home     : Factor w/ 6 levels \"ignore\",\"other\",..: 6 6 3 6 6 3 3 4 3 4 ...\n",
      " $ Time     : int  60 60 36 60 36 60 60 12 60 48 ...\n",
      " $ Age      : int  30 58 46 24 26 36 44 27 32 41 ...\n",
      " $ Marital  : Factor w/ 5 levels \"divorced\",\"married\",..: 2 5 2 4 4 2 2 4 2 2 ...\n",
      " $ Records  : Factor w/ 2 levels \"no\",\"yes\": 1 1 2 1 1 1 1 1 1 1 ...\n",
      " $ Job      : Factor w/ 4 levels \"fixed\",\"freelance\",..: 2 1 2 1 1 1 1 1 2 4 ...\n",
      " $ Expenses : int  73 48 90 63 46 75 75 35 90 90 ...\n",
      " $ Income   : int  129 131 200 182 107 214 125 80 107 80 ...\n",
      " $ Assets   : int  0 0 3000 2500 0 3500 10000 0 15000 0 ...\n",
      " $ Debt     : int  0 0 0 0 0 0 0 0 0 0 ...\n",
      " $ Amount   : int  800 1000 2000 900 310 650 1600 200 1200 1200 ...\n",
      " $ Price    : int  846 1658 2985 1325 910 1645 1800 1093 1957 1468 ...\n"
     ]
    }
   ],
   "source": [
    "data(credit_data)\n",
    "vars<- c(\"Home\", \"Seniority\")\n",
    "str(credit_data[, c(vars, \"Status\")])\n",
    "str(credit_data)"
   ]
  },
  {
   "cell_type": "code",
   "execution_count": 3,
   "metadata": {
    "vscode": {
     "languageId": "r"
    }
   },
   "outputs": [
    {
     "data": {
      "text/html": [
       "<style>\n",
       ".dl-inline {width: auto; margin:0; padding: 0}\n",
       ".dl-inline>dt, .dl-inline>dd {float: none; width: auto; display: inline-block}\n",
       ".dl-inline>dt::after {content: \":\\0020\"; padding-right: .5ex}\n",
       ".dl-inline>dt:not(:first-of-type) {padding-left: .5ex}\n",
       "</style><dl class=dl-inline><dt>Status</dt><dd>0</dd><dt>Seniority</dt><dd>0</dd><dt>Home</dt><dd>6</dd><dt>Time</dt><dd>0</dd><dt>Age</dt><dd>0</dd><dt>Marital</dt><dd>1</dd><dt>Records</dt><dd>0</dd><dt>Job</dt><dd>2</dd><dt>Expenses</dt><dd>0</dd><dt>Income</dt><dd>381</dd><dt>Assets</dt><dd>47</dd><dt>Debt</dt><dd>18</dd><dt>Amount</dt><dd>0</dd><dt>Price</dt><dd>0</dd></dl>\n"
      ],
      "text/latex": [
       "\\begin{description*}\n",
       "\\item[Status] 0\n",
       "\\item[Seniority] 0\n",
       "\\item[Home] 6\n",
       "\\item[Time] 0\n",
       "\\item[Age] 0\n",
       "\\item[Marital] 1\n",
       "\\item[Records] 0\n",
       "\\item[Job] 2\n",
       "\\item[Expenses] 0\n",
       "\\item[Income] 381\n",
       "\\item[Assets] 47\n",
       "\\item[Debt] 18\n",
       "\\item[Amount] 0\n",
       "\\item[Price] 0\n",
       "\\end{description*}\n"
      ],
      "text/markdown": [
       "Status\n",
       ":   0Seniority\n",
       ":   0Home\n",
       ":   6Time\n",
       ":   0Age\n",
       ":   0Marital\n",
       ":   1Records\n",
       ":   0Job\n",
       ":   2Expenses\n",
       ":   0Income\n",
       ":   381Assets\n",
       ":   47Debt\n",
       ":   18Amount\n",
       ":   0Price\n",
       ":   0\n",
       "\n"
      ],
      "text/plain": [
       "   Status Seniority      Home      Time       Age   Marital   Records       Job \n",
       "        0         0         6         0         0         1         0         2 \n",
       " Expenses    Income    Assets      Debt    Amount     Price \n",
       "        0       381        47        18         0         0 "
      ]
     },
     "metadata": {},
     "output_type": "display_data"
    }
   ],
   "source": [
    "colSums(is.na(credit_data))"
   ]
  },
  {
   "cell_type": "code",
   "execution_count": 4,
   "metadata": {
    "vscode": {
     "languageId": "r"
    }
   },
   "outputs": [],
   "source": [
    "set.seed(2411)\n",
    "in_train<- sample(1:nrow(credit_data), size = 3000)\n",
    "train_data<- credit_data[in_train,]\n",
    "test_data<-credit_data[-in_train,]"
   ]
  },
  {
   "cell_type": "code",
   "execution_count": 6,
   "metadata": {
    "vscode": {
     "languageId": "r"
    }
   },
   "outputs": [
    {
     "data": {
      "text/html": [
       "'717022591660419626'"
      ],
      "text/latex": [
       "'717022591660419626'"
      ],
      "text/markdown": [
       "'717022591660419626'"
      ],
      "text/plain": [
       "[1] \"717022591660419626\""
      ]
     },
     "metadata": {},
     "output_type": "display_data"
    },
    {
     "ename": "ERROR",
     "evalue": "Error: Run with UUID b992eef081ec4c7ba8c4f8b335a2a68b is already active. To start a nested run, Call `mlflow_start_run()` with `nested = TRUE`.\n",
     "output_type": "error",
     "traceback": [
      "Error: Run with UUID b992eef081ec4c7ba8c4f8b335a2a68b is already active. To start a nested run, Call `mlflow_start_run()` with `nested = TRUE`.\nTraceback:\n",
      "1. mlflow_start_run()",
      "2. stop(\"Run with UUID \", active_run_id, \" is already active. To start a nested run, Call `mlflow_start_run()` with `nested = TRUE`.\", \n .     call. = FALSE)"
     ]
    }
   ],
   "source": [
    "mlflow_set_tracking_uri(\"http://localhost:5000\")\n",
    "mlflow_set_experiment(\"credit_data_r\")\n",
    "run<- mlflow_start_run()\n",
    "\n",
    "tree_mod<- C5.0(x=train_data[,vars], y=train_data$Status)\n",
    "tree_mod\n",
    "\n",
    "# Save the model to a file\n",
    "path <- as.character(\"D:/Kuliah/semester_3/kecerdasan_buatan/Pertemuan_3/credit_data/model.rds\")\n",
    "saveRDS(tree_mod, path)\n",
    "\n",
    "# Log the saved model file as an artifact\n",
    "mlflow_log_artifact(run, path)\n",
    "\n",
    "# Save the plot to a file\n",
    "path <- as.character(\"D:/Kuliah/semester_3/kecerdasan_buatan/Pertemuan_3/credit_data/plot.png\")\n",
    "png(filename = path)\n",
    "plot(tree_mod)\n",
    "dev.off()\n",
    "\n",
    "# Log the plot as an artifact\n",
    "mlflow_log_artifact(run, path)\n",
    "\n",
    "# Log parameters (replace \"param_name\" and \"param_value\" with your actual parameters)\n",
    "mlflow_log_param(run, \"param_name\", param_value)\n",
    "\n",
    "# End the run\n",
    "mlflow_end_run(run)"
   ]
  },
  {
   "cell_type": "code",
   "execution_count": null,
   "metadata": {
    "vscode": {
     "languageId": "r"
    }
   },
   "outputs": [],
   "source": []
  }
 ],
 "metadata": {
  "kernelspec": {
   "display_name": "R",
   "language": "R",
   "name": "ir"
  },
  "language_info": {
   "codemirror_mode": "r",
   "file_extension": ".r",
   "mimetype": "text/x-r-source",
   "name": "R",
   "pygments_lexer": "r",
   "version": "4.1.3"
  },
  "orig_nbformat": 4
 },
 "nbformat": 4,
 "nbformat_minor": 2
}
